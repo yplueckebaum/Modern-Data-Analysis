{
 "cells": [
  {
   "cell_type": "markdown",
   "id": "c2e647a4",
   "metadata": {},
   "source": [
    "# Exercise Sheet 04: Knowledge Tracing\n",
    "\n",
    "**Introduction to Data Mining WS23/24**  \n",
    "**Bielefeld University**  \n",
    "**Alina Deriyeva, Benjamin Paaßen**  \n",
    "**Exercise Sheet Publication Date: 2023-12-04**  \n",
    "**Exercise Sheet Submission Deadline: 2023-12-15, noon (i.e. 12:00), via **moodle** (please do not use e-mail submissions anymore).\n",
    "\n",
    "**NOTE** The use of language models/AI tools is permitted IF you notify us of the use (just indicate it in the respective task) and are still able to understand and present your results. We also appreciate it if you link to a chatlog of the interaction with the language model/AI tool so that we can understand better how students tend to use these tools."
   ]
  },
  {
   "cell_type": "markdown",
   "id": "9f8967b8",
   "metadata": {},
   "source": [
    "**PLEASE INDICATE ALL AUTHORS OF THE SUBMISSION IN THIS FIELD**"
   ]
  },
  {
   "cell_type": "markdown",
   "id": "3cd7aac8",
   "metadata": {},
   "source": [
    "### Preamble: Data set\n",
    "\n",
    "Consider the data set in `sheet04_data.csv`. This data set contains the exercise results for a population of fictional students and two skills.\n",
    "\n",
    "Each row corresponds to one attempt of one student on an exercise. The first column indicates the student index $i$, the second column the time $t$, the third column the exercise index $j$, the fourth whether this exercise needs the first skill (0 if no, 1 if yes), the fifth column whether this exercise needs the second skill (0 if no, 1 if yes), and the sixth column the outcome of the attempt: 0 for a failure, 1 for a success.\n",
    "\n",
    "The following code loads the raw data and prints it."
   ]
  },
  {
   "cell_type": "code",
   "execution_count": 1,
   "id": "0e0efda6",
   "metadata": {},
   "outputs": [
    {
     "name": "stdout",
     "output_type": "stream",
     "text": [
      "[[ 0  0  1  1  0  0]\n",
      " [ 0  1  1  1  0  0]\n",
      " [ 0  2  1  1  0  0]\n",
      " [ 0  3  2  0  1  0]\n",
      " [ 0  4  1  1  0  0]\n",
      " [ 0  5  4  1  1  1]\n",
      " [ 0  6  3  0  1  0]\n",
      " [ 0  7  4  1  1  1]\n",
      " [ 0  8  1  1  0  1]\n",
      " [ 0  9  4  1  1  1]\n",
      " [ 0 10  2  0  1  1]\n",
      " [ 1  0  4  1  1  1]\n",
      " [ 1  1  2  0  1  0]\n",
      " [ 1  2  3  0  1  1]\n",
      " [ 1  3  2  0  1  1]\n",
      " [ 1  4  2  0  1  1]\n",
      " [ 1  5  4  1  1  1]\n",
      " [ 1  6  3  0  1  1]\n",
      " [ 1  7  2  0  1  1]\n",
      " [ 1  8  0  1  0  1]\n",
      " [ 2  0  5  1  1  0]\n",
      " [ 2  1  2  0  1  0]\n",
      " [ 2  2  3  0  1  1]\n",
      " [ 2  3  0  1  0  1]\n",
      " [ 2  4  3  0  1  0]\n",
      " [ 2  5  4  1  1  1]\n",
      " [ 2  6  4  1  1  1]\n",
      " [ 2  7  0  1  0  1]\n",
      " [ 2  8  0  1  0  1]\n",
      " [ 2  9  1  1  0  1]\n",
      " [ 3  0  1  1  0  0]\n",
      " [ 3  1  3  0  1  0]\n",
      " [ 3  2  5  1  1  0]\n",
      " [ 3  3  3  0  1  0]\n",
      " [ 3  4  5  1  1  1]\n",
      " [ 3  5  3  0  1  0]\n",
      " [ 3  6  3  0  1  0]\n",
      " [ 3  7  3  0  1  1]\n",
      " [ 3  8  4  1  1  1]\n",
      " [ 3  9  0  1  0  1]\n",
      " [ 3 10  1  1  0  1]\n",
      " [ 4  0  4  1  1  0]\n",
      " [ 4  1  2  0  1  0]\n",
      " [ 4  2  0  1  0  0]\n",
      " [ 4  3  4  1  1  0]\n",
      " [ 4  4  0  1  0  1]\n",
      " [ 4  5  2  0  1  1]\n",
      " [ 4  6  0  1  0  1]\n",
      " [ 4  7  3  0  1  1]\n",
      " [ 4  8  5  1  1  1]\n",
      " [ 4  9  2  0  1  1]\n",
      " [ 5  0  4  1  1  0]\n",
      " [ 5  1  2  0  1  1]\n",
      " [ 5  2  3  0  1  0]\n",
      " [ 5  3  0  1  0  0]\n",
      " [ 5  4  3  0  1  0]\n",
      " [ 5  5  1  1  0  0]\n",
      " [ 5  6  3  0  1  1]\n",
      " [ 5  7  2  0  1  1]\n",
      " [ 5  8  4  1  1  1]\n",
      " [ 5  9  3  0  1  1]\n",
      " [ 6  0  5  1  1  0]\n",
      " [ 6  1  5  1  1  0]\n",
      " [ 6  2  2  0  1  0]\n",
      " [ 6  3  2  0  1  0]\n",
      " [ 6  4  5  1  1  1]\n",
      " [ 6  5  0  1  0  1]\n",
      " [ 6  6  2  0  1  1]\n",
      " [ 6  7  3  0  1  1]\n",
      " [ 6  8  1  1  0  1]\n",
      " [ 6  9  4  1  1  1]\n",
      " [ 7  0  4  1  1  0]\n",
      " [ 7  1  5  1  1  0]\n",
      " [ 7  2  4  1  1  0]\n",
      " [ 7  3  3  0  1  0]\n",
      " [ 7  4  5  1  1  0]\n",
      " [ 7  5  0  1  0  1]\n",
      " [ 7  6  1  1  0  1]\n",
      " [ 7  7  4  1  1  1]\n",
      " [ 7  8  5  1  1  1]\n",
      " [ 7  9  5  1  1  1]]\n"
     ]
    }
   ],
   "source": [
    "import numpy as np\n",
    "import matplotlib.pyplot as plt\n",
    "\n",
    "X = np.loadtxt('sheet04_data.csv', skiprows = 1, delimiter = '\\t', dtype=int)\n",
    "print(X)"
   ]
  },
  {
   "cell_type": "markdown",
   "id": "962e29d5",
   "metadata": {},
   "source": [
    "In the remainder of this sheet, we will apply three different knowledge tracing methods to this data:\n",
    "* Performance Factors Analysis\n",
    "* Bayesian Knowledge Tracing\n",
    "* Deep Knowledge Tracing"
   ]
  },
  {
   "cell_type": "markdown",
   "id": "be6bb375",
   "metadata": {},
   "source": [
    "### Task 04.01\n",
    "\n",
    "Just by considering the data set itself, which of the three knowledge tracing methods might fit best? Provide a reasoning for your answer."
   ]
  },
  {
   "cell_type": "markdown",
   "id": "d9d9196d",
   "metadata": {},
   "source": [
    "**ANSWER:**"
   ]
  },
  {
   "cell_type": "markdown",
   "id": "97ad4b2b",
   "metadata": {},
   "source": [
    "### Task 04.02\n",
    "\n",
    "Let's assume that some local government wants to use a deep knowledge tracing model on this data to estimate the skill development of students to make funding decisions. In particular, school funding should be allocated to the schools that achieve a fastest skill development of students according to the model (conversely, funding should be reduced for schools that achieve less fast skill development).\n",
    "\n",
    "Which problems do you see with this kind of approach? Please list at least two and explain them."
   ]
  },
  {
   "cell_type": "markdown",
   "id": "87230ca4",
   "metadata": {},
   "source": [
    "**ANSWER:**"
   ]
  },
  {
   "cell_type": "markdown",
   "id": "15a4e5ae",
   "metadata": {},
   "source": [
    "## Performance Factors analysis\n",
    "\n",
    "\n",
    "Recall the form of a performance factors analysis model: The logit-probability that student $i$ achieves a success at time step $t$, given all their previous successes and failures, is modelled as\n",
    "\n",
    "\\begin{equation}\n",
    "\\sum_{k \\in \\mathcal{K}_{i, t}} \\gamma_k \\cdot s_{i, k, t} + \\rho_k \\cdot f_{i, k, t} + \\beta_k\n",
    "\\end{equation}\n",
    "\n",
    "where $\\mathcal{K}_{i, t}$ is the set of skills needed for the exercise student $i$ attempts at time step $t$, where $s_{i, k, t}$ is the number of past successes of student $i$ on skill $k$ before time step $t$, where $f_{i, k, t}$ is the number of past failures of student $i$ on skill $k$ before time step $t$, and where $\\gamma_k$, $\\rho_k$, and $\\beta_k$ are the parameters of the model.\n",
    "\n",
    "Note that this is, essentially, a logistic regression model, where $s_{i, k, t}$ and $f_{i, k, t}$ are the features and $x_{i, t}$ is the target to be predicted.\n"
   ]
  },
  {
   "cell_type": "markdown",
   "id": "26e3f4f3",
   "metadata": {},
   "source": [
    "### Task 04.03\n",
    "\n",
    "Convert the data set into a feature matrix `Xlogreg` for a logistic [sklearn.linear_model.LogisticRegression](https://scikit-learn.org/stable/modules/generated/sklearn.linear_model.LogisticRegression.html) model, where each row corresponds to one attempt of one student $i$ on an exercise (just as in the raw data) and where the columns are $s_{i, 1, t}$, $f_{i, 1, t}$, 1, $s_{i, 2, t}$, $f_{i, 2, t}$, and 1 again, meaning the past successes and the past failures for the first and the second skill for student $i$ at time $t$.\n",
    "\n",
    "HOWEVER make sure to set the first three columns to zero in every row where the exercise that student $i$ attempts at time $t$ does not involve the first skill and the last three columns to zero in every row where the exercise does not involve the second skill.\n",
    "\n",
    "**HINT:** Look again at the lecture slides for an example of this process. While this task is not hard to program, per se, the devil is in the details."
   ]
  },
  {
   "cell_type": "code",
   "execution_count": null,
   "id": "56008be8",
   "metadata": {},
   "outputs": [],
   "source": []
  },
  {
   "cell_type": "markdown",
   "id": "17b30707",
   "metadata": {},
   "source": [
    "### Task 04.04\n",
    "\n",
    "Use the matrix `Xlogreg` from Task 04.03 and the last column of `X` (as targets) to train an [sklearn.linear_model.LogisticRegression](https://scikit-learn.org/stable/modules/generated/sklearn.linear_model.LogisticRegression.html) model with `penalty = 'l2'`, `fit_intercept = False`, and `C = 1.0`.\n",
    "\n",
    "Report the accuracy of the model by printing the output of the `score` function of the model."
   ]
  },
  {
   "cell_type": "code",
   "execution_count": null,
   "id": "f8cdbf1a",
   "metadata": {},
   "outputs": [],
   "source": []
  },
  {
   "cell_type": "markdown",
   "id": "1c7ed76d",
   "metadata": {},
   "source": [
    "### Task 04.05\n",
    "\n",
    "Print the trained parameters of the model in the following format:\n",
    "\n",
    "```\n",
    "gamma_1 = %g\n",
    "rho_1   = %g\n",
    "beta_1  = %g\n",
    "gamma_2 = %g\n",
    "rho_2   = %g\n",
    "beta_2  = %g\n",
    "```\n",
    "\n",
    "Given these parameters, compute the amount of first skill for a student with 3 past successes and 1 past failure and print it."
   ]
  },
  {
   "cell_type": "code",
   "execution_count": null,
   "id": "e7dc5921",
   "metadata": {},
   "outputs": [],
   "source": []
  },
  {
   "cell_type": "markdown",
   "id": "589da0ce",
   "metadata": {},
   "source": [
    "### Task 04.06\n",
    "\n",
    "For each student in the data set, provide a plot with time on the x axis and the predicted success probability of the performance factors analysis model on the y axis."
   ]
  },
  {
   "cell_type": "code",
   "execution_count": null,
   "id": "90bced29",
   "metadata": {},
   "outputs": [],
   "source": []
  },
  {
   "cell_type": "markdown",
   "id": "877d27f9",
   "metadata": {},
   "source": [
    "### Task 04.07\n",
    "\n",
    "In the previous task, you probably noticed that the predicted success probability of the performance factors analysis model sometimes drops for later timesteps. Explain this finding."
   ]
  },
  {
   "cell_type": "markdown",
   "id": "fad93bca",
   "metadata": {},
   "source": [
    "**ANSWER:** "
   ]
  },
  {
   "cell_type": "markdown",
   "id": "e4e78133",
   "metadata": {},
   "source": [
    "### Task 04.08 (Bonus Task)\n",
    "\n",
    "Extend the performance factors analysis model with exercise difficulty parameters and fit it to the data. Print the accuracy and the parameters. How did this change influence the accuracy compared to the model in Task 04.04?"
   ]
  },
  {
   "cell_type": "code",
   "execution_count": null,
   "id": "1084bfee",
   "metadata": {},
   "outputs": [],
   "source": []
  },
  {
   "cell_type": "markdown",
   "id": "0f152e39",
   "metadata": {},
   "source": [
    "**ANSWER:** "
   ]
  },
  {
   "cell_type": "markdown",
   "id": "258922c6",
   "metadata": {},
   "source": [
    "## Bayesian Knowledge Tracing\n",
    "\n",
    "A Bayesian Knowledge Tracing Model is a two-state Hidden Markov Model (either a student mastered a skill at time $t$ or they did not), where we denote the random variable for the state of student $i$ at time $t$ as $Z_{i, t}$ and the random variable for the result (pass/fail) of student $i$ at time $t$ as $X_{i, t}$. The parameters of the model are:\n",
    "\n",
    "\\begin{align*}\n",
    "p_{Z_{i, 1}}(1) &= p_\\mathrm{start},\\\\\n",
    "p_{X_{i, t}|Z_{i, t}}(0|1) &= p_\\mathrm{slip}, \\\\\n",
    "p_{X_{i, t}|Z_{i, t}}(1|0) &= p_\\mathrm{guess}, \\\\\n",
    "p_{Z_{i, t}|Z_{i, t-1}}(1|1) &= 1, &\\text{ and} \\\\\n",
    "p_{Z_{i, t}|Z_{i, t-1}}(1|0) &= p_\\mathrm{trans}\n",
    "\\end{align*}\n",
    "\n",
    "Given a series of past results $x_{i, 1}, \\ldots, x_{i, t}$ for student $i$, we denote:\n",
    "\n",
    "\\begin{align}\n",
    "p_{i, t+1} &= p_{Z_{i, t+1}|X_{i, t}, \\ldots, X_{i, 1}}(1|x_{i, t}, \\ldots, x_{i, 1}) & \\text{ and} \\\\\n",
    "q_{i, t}   &= p_{Z_{i, t}|X_{i, t}, \\ldots, X_{i, 1}}(1|x_{i, t}, \\ldots, x_{i, 1})\n",
    "\\end{align}\n",
    "\n",
    "With these two short-hand notations, we obtain the following equations (refer to the lecture slides for the derivation):\n",
    "\\begin{align}\n",
    "p_{i, t+1} &= q_{i, t} + p_\\mathrm{trans} \\cdot (1 - q_{i, t}) \\\\\n",
    "q_{i, t}   &=\n",
    "\\begin{cases}\n",
    "\\frac{(1-p_\\mathrm{slip}) \\cdot p_{i, t}}{(1-p_\\mathrm{slip}) \\cdot p_{i, t} + p_\\mathrm{guess} \\cdot (1 - p_{i, t})} & \\text{if } x_{i, t} = 1 \\\\\n",
    "\\frac{p_\\mathrm{slip} \\cdot p_{i, t}}{p_\\mathrm{slip} \\cdot p_{i, t} + (1-p_\\mathrm{guess}) \\cdot (1 - p_{i, t})} & \\text{if } x_{i, t} = 0\n",
    "\\end{cases}\n",
    "\\end{align}"
   ]
  },
  {
   "cell_type": "markdown",
   "id": "c1f7453e",
   "metadata": {},
   "source": [
    "### Task 04.09\n",
    "\n",
    "Let's assume we have a series of results $x_{i, 1}, \\ldots, x_{i, t}$ for student $i$ with the last entry being $x_{i, t} = 1$.\n",
    "\n",
    "Further, let's denote the joint probability $p_{Z_{i, t}, X_{i, t}, \\ldots, X_{i, 1}}(z, x_{i, t}, \\ldots, x_{i, 1})$ as $\\alpha_{i, t}(z)$.\n",
    "\n",
    "Show, that the following equality holds:\n",
    "\\begin{equation*}\n",
    "\\alpha_{i, t}(1) = (1 - p_\\mathrm{slip}) \\cdot \\Big[p_\\mathrm{trans} \\cdot \\alpha_{i, t-1}(0) + \\alpha_{i, t-1}(1)\\Big]\n",
    "\\end{equation*}\n",
    "\n",
    "**HINT**: Recall that, in a BKT model, the latent space $Z_{i, t}$ of student $i$ at time $t$ is conditionally independent of all past observations given $Z_{i, t-1}$ and $X_{i, t}$ is conditionally independent from past observations given $Z_{i, t}$.\n",
    "\n",
    "Other than these bits of information, you 'only' need to smartly apply the definition of conditional probabilities and the law of total probability for this task. "
   ]
  },
  {
   "cell_type": "markdown",
   "id": "e3fa37fd",
   "metadata": {},
   "source": [
    "**ANSWER:**"
   ]
  },
  {
   "cell_type": "markdown",
   "id": "7cb3f3df",
   "metadata": {},
   "source": [
    "### Task 04.10\n",
    "\n",
    "Given the equations above, write a Python function that takes an array $x_{i, 1}, \\ldots, x_{i, t}$ of student results (pass/fail) for one skill and the parameters $p_\\mathrm{start}$, $p_\\mathrm{slip}$, $p_\\mathrm{guess}$, and $p_\\mathrm{trans}$ as input and returns an array of probability $p_{i, 1+1}, \\ldots, p_{i, t+1}$ as output."
   ]
  },
  {
   "cell_type": "code",
   "execution_count": null,
   "id": "fa2d5d47",
   "metadata": {},
   "outputs": [],
   "source": []
  },
  {
   "cell_type": "markdown",
   "id": "6fe40726",
   "metadata": {},
   "source": [
    "### Task 04.11\n",
    "\n",
    "For this task, use the parameter settings $p_\\mathrm{start} = 0.1$, $p_\\mathrm{slip} = 0.1$, $p_\\mathrm{guess} = 0.2$, and $p_\\mathrm{trans} = 0.3$.\n",
    "\n",
    "For each student and each skill, provide a plot with time step $t$ on the x axis and $p_{i, t+1}$ on the y axis, using your function from Task 04.10."
   ]
  },
  {
   "cell_type": "code",
   "execution_count": null,
   "id": "2cded633",
   "metadata": {},
   "outputs": [],
   "source": []
  },
  {
   "cell_type": "markdown",
   "id": "d9ff6728",
   "metadata": {},
   "source": [
    "### Task 04.12\n",
    "\n",
    "For each of the parameters, test what happens if you increase the parameter by 0.1. Report the effect on $p_{i, t+1}$."
   ]
  },
  {
   "cell_type": "markdown",
   "id": "275b7ecb",
   "metadata": {},
   "source": [
    "**ANSWER FOR $p_\\mathrm{start}$:** \n",
    "\n",
    "**ANSWER FOR $p_\\mathrm{slip}$:** \n",
    "\n",
    "**ANSWER FOR $p_\\mathrm{guess}$:** \n",
    "\n",
    "**ANSWER FOR $p_\\mathrm{trans}$:** "
   ]
  },
  {
   "cell_type": "markdown",
   "id": "1bdd79bb",
   "metadata": {},
   "source": [
    "## Deep Knowledge Tracing"
   ]
  },
  {
   "cell_type": "markdown",
   "id": "a5da499f",
   "metadata": {},
   "source": [
    "### Task 04.13\n",
    "\n",
    "Generate a list `Xs_dkt` of matrices, one per student.\n",
    "\n",
    "The matrix `Xi` for student $i$ should start with one row of zeros and each subsequent row `Xi[t+1, :]` of the matrix should correspond to one attempt of student $i$ at some exercise at time $t$. There should be two columns per exercise (twelve columns overall), where entry `Xi[t+1, j]` should be 1 if the attempt $t$ was successful and `Xi[t+1, 6 + j]` should be 1 if the attempt was a failure. The last attempt of the student should not be represented in `Xi`.\n",
    "\n",
    "For example, if student $i$ has three attempts, one success on exercise 0, one failure on exercise 2, and a success on exercise 2, then the matrix `Xi` should be as follows:\n",
    "\n",
    "```\n",
    "Xi = [\n",
    "    [0, 0, 0, 0, 0, 0, 0, 0, 0, 0, 0, 0], # zero row for the first attempt\n",
    "    [1, 0, 0, 0, 0, 0, 0, 0, 0, 0, 0, 0], # first attempt (success at first exercise)\n",
    "    [0, 0, 0, 0, 0, 0, 0, 0, 1, 0, 0, 0]  # second attempt (failure at third exercise)\n",
    "]\n",
    "```\n",
    "\n",
    "Generate a list `Ys_dkt` of matrices, one per student, which contain the exercise indices and the results results of the student.\n",
    "\n",
    "For example, if student $i$ has three attempts, one success on exercise 0, one failure on exercise 2, and a success on exercise 2, then `Yi` should be as follows:\n",
    "\n",
    "```\n",
    "Yi = [\n",
    "    [0, 1],\n",
    "    [2, 0],\n",
    "    [2, 1]\n",
    "]\n",
    "```"
   ]
  },
  {
   "cell_type": "code",
   "execution_count": 2,
   "id": "611cf8e2",
   "metadata": {},
   "outputs": [],
   "source": [
    "import torch\n",
    "num_exercises = 6"
   ]
  },
  {
   "cell_type": "markdown",
   "id": "f2903d3a",
   "metadata": {},
   "source": [
    "### Task 04.14\n",
    "\n",
    "The following deep knowledge tracing model takes a student matrix `Xi` from Task 04.13 as input and produces a matrix `Logits` with as many rows and 6 columns, one per exercise. The entry `Logits[t, j]` is supposed to be the logit probability of student $i$ succeeding at exercise $j$ in time step $t$.\n",
    "\n",
    "To train this model, we want to use the following scheme:\n",
    "\n",
    "Repeat for num_epochs:\n",
    "1. Pick a random student $i$.\n",
    "2. Get the matrix `Xi` and the array `Yi` from Task 04.11.\n",
    "3. Compute the output `Logits` for input `Xi` via the `forward` method of the DKT modul.\n",
    "4. For each time step $t$, repeat:\n",
    "    1. Retrieve the exercise index `j = Yi[t, 0]` and the actual result `x = Yi[t, 1]`.\n",
    "    2. Use the function `torch.nn.functional.binary_crossentropy_with_logits` to compute the loss between the predicted logit probability `Logits[t, j]` and the actual outcome `x`.\n",
    "\n",
    "Implement this scheme in the `fit` function of the model below."
   ]
  },
  {
   "cell_type": "code",
   "execution_count": 3,
   "id": "70ab6054",
   "metadata": {},
   "outputs": [],
   "source": [
    "import torch\n",
    "import random\n",
    "\n",
    "class DKT(torch.nn.Module):\n",
    "    \"\"\"The initialization function of a pytorch module. Here, we should set all hyperparameters\n",
    "    of the model, such as the regularization strength.\n",
    "\n",
    "    Parameters\n",
    "    ----------\n",
    "    num_exercises: int\n",
    "        The number of exercises in the data set.\n",
    "    num_neurons: int (default = 32)\n",
    "        The number of neurons used in the GRU.\n",
    "    C: float (default = 1000)\n",
    "        The inverse of the L2 regularization strength.\n",
    "    num_epochs: int (default = 1000)\n",
    "        How many times we iterate over the data set.\n",
    "    learning_rate: float (default = 1E-2)\n",
    "\n",
    "    \"\"\"\n",
    "    def __init__(self, num_exercises, num_neurons = 32, C = 1000., num_epochs = 1000, learning_rate = 1E-2):\n",
    "        super(DKT, self).__init__()\n",
    "        self.num_exercises_ = num_exercises\n",
    "        self.num_neurons_   = num_neurons\n",
    "        self.C_             = C\n",
    "        self.num_epochs_    = num_epochs\n",
    "        self.learning_rate_ = learning_rate\n",
    "        # initialize the network layers\n",
    "        self.gru_           = torch.nn.GRU(self.num_exercises_*2, self.num_neurons_)\n",
    "        self.out_           = torch.nn.Linear(self.num_neurons_, self.num_exercises_)\n",
    "\n",
    "\n",
    "    \"\"\"Predicts logit probabilities of success for the given input data\n",
    "    \n",
    "    Parameters\n",
    "    ----------\n",
    "    X: torch.tensor\n",
    "        A feature matrix for one student, where each row represents one attempted exercise.\n",
    "        The first self.num_exercises_ columns should indicate whether a student achieved\n",
    "        a success at exercise j in this timestep, the latter self.num_exercises_ columns\n",
    "        should indicate failures.\n",
    "\n",
    "    Returns\n",
    "    -------\n",
    "    Logits: torch.tensor\n",
    "        A matrix where the entry Logits[t, j] indicates the predicted logit success probability\n",
    "        for the student for exercise j at time t.\n",
    "\n",
    "    \"\"\"\n",
    "    def forward(self, X):\n",
    "        H, _ = self.gru_(X)\n",
    "        return self.out_(H)\n",
    "\n",
    "    \"\"\"Scores the accuracy of this model.\n",
    "    \n",
    "    Parameters\n",
    "    ----------\n",
    "    X: list\n",
    "        A list of feature matrices, one per student.\n",
    "    Y: list\n",
    "        A list of target matrices, one per student.\n",
    "\n",
    "    Returns\n",
    "    -------\n",
    "    acc: float\n",
    "        An accuracy value.\n",
    "    \n",
    "    \"\"\"\n",
    "    def score(self, X, Y):\n",
    "        num_attempts  = 0\n",
    "        num_successes = 0\n",
    "        for i in range(len(X)):\n",
    "            Logits = self.forward(X[i])\n",
    "            for t in range(Y[i].shape[0]):\n",
    "                num_attempts += 1\n",
    "                j = int(Y[i][t, 0])\n",
    "                if Y[i][t, 1] > 0.5 and Logits[t, j] > 0:\n",
    "                    num_successes += 1\n",
    "                elif Y[i][t, 1] < 0.5 and Logits[t, j] <= 0:\n",
    "                    num_successes += 1\n",
    "        return num_successes / num_attempts\n",
    "\n",
    "    \"\"\"Fits this model to the given data matrix.\n",
    "\n",
    "    Parameters\n",
    "    ----------\n",
    "    X: list\n",
    "        A list of feature matrices, one per student.\n",
    "    Y: list\n",
    "        A list of target matrices, one per student.\n",
    "\n",
    "    \"\"\"\n",
    "    def fit(self, X, Y):\n",
    "        raise ValueError('This needs to be implemented!')"
   ]
  },
  {
   "cell_type": "markdown",
   "id": "52deef28",
   "metadata": {},
   "source": [
    "### Task 04.15\n",
    "\n",
    "Train the model on the data using your `fit` function from Task 04.14 and report the accuracy using the `score` function."
   ]
  },
  {
   "cell_type": "code",
   "execution_count": null,
   "id": "2d22a318",
   "metadata": {},
   "outputs": [],
   "source": []
  }
 ],
 "metadata": {
  "kernelspec": {
   "display_name": "Python 3 (ipykernel)",
   "language": "python",
   "name": "python3"
  },
  "language_info": {
   "codemirror_mode": {
    "name": "ipython",
    "version": 3
   },
   "file_extension": ".py",
   "mimetype": "text/x-python",
   "name": "python",
   "nbconvert_exporter": "python",
   "pygments_lexer": "ipython3",
   "version": "3.11.6"
  }
 },
 "nbformat": 4,
 "nbformat_minor": 5
}
